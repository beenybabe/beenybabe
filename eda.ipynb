{
  "nbformat": 4,
  "nbformat_minor": 0,
  "metadata": {
    "colab": {
      "provenance": [],
      "collapsed_sections": [
        "Ub_Fm1yyj0PA"
      ],
      "authorship_tag": "ABX9TyMgHfYPcJGtWoYV88XbxgAU",
      "include_colab_link": true
    },
    "kernelspec": {
      "name": "python3",
      "display_name": "Python 3"
    },
    "language_info": {
      "name": "python"
    }
  },
  "cells": [
    {
      "cell_type": "markdown",
      "metadata": {
        "id": "view-in-github",
        "colab_type": "text"
      },
      "source": [
        "<a href=\"https://colab.research.google.com/github/beenybabe/beenybabe/blob/main/eda.ipynb\" target=\"_parent\"><img src=\"https://colab.research.google.com/assets/colab-badge.svg\" alt=\"Open In Colab\"/></a>"
      ]
    },
    {
      "cell_type": "markdown",
      "source": [
        "# <u>Health and demographic data annalysis report</u>\n",
        "\n",
        "Results recording period: <u>2014 - 2015</u>  \n",
        "\n",
        "* In this report we will be exploring a set of data featuring health and demographic information.\n",
        "\n",
        "The data is showing measurements of variables such as population size, life expectancy of the citezins and fertility rates for certain countries.\n"
      ],
      "metadata": {
        "id": "3vBYlDlU8Jp5"
      }
    },
    {
      "cell_type": "markdown",
      "source": [
        "## Importing required modules:\n",
        "\n",
        "Below I am importing the python libraries I will be using."
      ],
      "metadata": {
        "id": "wMY5jRHx-ZLF"
      }
    },
    {
      "cell_type": "code",
      "source": [
        "import pandas as pd\n",
        "import matplotlib.pyplot as plt\n",
        "import seaborn as sns"
      ],
      "metadata": {
        "id": "Re1nQyYz8t7n"
      },
      "execution_count": 5,
      "outputs": []
    },
    {
      "cell_type": "markdown",
      "source": [
        "# <u>Cleaning and Analysing the data</u>"
      ],
      "metadata": {
        "id": "Ub_Fm1yyj0PA"
      }
    },
    {
      "cell_type": "markdown",
      "source": [
        "## 1. loading the data into a pandas data frame\n"
      ],
      "metadata": {
        "id": "-AarF_-7A2OK"
      }
    },
    {
      "cell_type": "code",
      "source": [
        "data_frame = pd.read_csv(\"/content/data.csv\")"
      ],
      "metadata": {
        "id": "42vvSXotohCN"
      },
      "execution_count": 6,
      "outputs": []
    },
    {
      "cell_type": "markdown",
      "source": [
        "* Below I check the number of columns(13) and rows(194), the names of the columns and the types of values in the column cells. The \"Non-Null count\" shows us the number of values that are not missing."
      ],
      "metadata": {
        "id": "ejbGYeYUSYV3"
      }
    },
    {
      "cell_type": "code",
      "source": [
        "data_frame.info()"
      ],
      "metadata": {
        "colab": {
          "base_uri": "https://localhost:8080/"
        },
        "id": "2ROA7P28SibD",
        "outputId": "e3feb798-4f72-4805-8506-55c1a0696dc0"
      },
      "execution_count": 7,
      "outputs": [
        {
          "output_type": "stream",
          "name": "stdout",
          "text": [
            "<class 'pandas.core.frame.DataFrame'>\n",
            "RangeIndex: 194 entries, 0 to 193\n",
            "Data columns (total 13 columns):\n",
            " #   Column                         Non-Null Count  Dtype  \n",
            "---  ------                         --------------  -----  \n",
            " 0   Country                        194 non-null    object \n",
            " 1   Region                         194 non-null    object \n",
            " 2   Population                     194 non-null    int64  \n",
            " 3   Under15                        194 non-null    float64\n",
            " 4   Over60                         194 non-null    float64\n",
            " 5   FertilityRate                  183 non-null    float64\n",
            " 6   LifeExpectancy                 194 non-null    int64  \n",
            " 7   ChildMortality                 194 non-null    float64\n",
            " 8   CellularSubscribers            184 non-null    float64\n",
            " 9   LiteracyRate                   103 non-null    float64\n",
            " 10  GNI                            162 non-null    float64\n",
            " 11  PrimarySchoolEnrollmentMale    101 non-null    float64\n",
            " 12  PrimarySchoolEnrollmentFemale  101 non-null    float64\n",
            "dtypes: float64(9), int64(2), object(2)\n",
            "memory usage: 19.8+ KB\n"
          ]
        }
      ]
    },
    {
      "cell_type": "markdown",
      "source": [
        "* Below, I am showing the first 10 rows of the data frame."
      ],
      "metadata": {
        "id": "gKQjP-6ABqSF"
      }
    },
    {
      "cell_type": "code",
      "source": [
        "data_frame.head(10)"
      ],
      "metadata": {
        "colab": {
          "base_uri": "https://localhost:8080/",
          "height": 453
        },
        "id": "Y462mCdgB5-_",
        "outputId": "0b6a78a8-e0d6-4f03-afde-dcb3cb3e8d34"
      },
      "execution_count": 8,
      "outputs": [
        {
          "output_type": "execute_result",
          "data": {
            "text/plain": [
              "               Country                 Region  Population  Under15  Over60  \\\n",
              "0          Afghanistan  Eastern Mediterranean       29825    47.42    3.82   \n",
              "1              Albania                 Europe        3162    21.33   14.93   \n",
              "2              Algeria                 Africa       38482    27.42    7.17   \n",
              "3              Andorra                 Europe          78    15.20   22.86   \n",
              "4               Angola                 Africa       20821    47.58    3.84   \n",
              "5  Antigua and Barbuda               Americas          89    25.96   12.35   \n",
              "6            Argentina               Americas       41087    24.42   14.97   \n",
              "7              Armenia                 Europe        2969    20.34   14.06   \n",
              "8            Australia        Western Pacific       23050    18.95   19.46   \n",
              "9              Austria                 Europe        8464    14.51   23.52   \n",
              "\n",
              "   FertilityRate  LifeExpectancy  ChildMortality  CellularSubscribers  \\\n",
              "0           5.40              60            98.5                54.26   \n",
              "1           1.75              74            16.7                96.39   \n",
              "2           2.83              73            20.0                98.99   \n",
              "3            NaN              82             3.2                75.49   \n",
              "4           6.10              51           163.5                48.38   \n",
              "5           2.12              75             9.9               196.41   \n",
              "6           2.20              76            14.2               134.92   \n",
              "7           1.74              71            16.4               103.57   \n",
              "8           1.89              82             4.9               108.34   \n",
              "9           1.44              81             4.0               154.78   \n",
              "\n",
              "   LiteracyRate      GNI  PrimarySchoolEnrollmentMale  \\\n",
              "0           NaN   1140.0                          NaN   \n",
              "1           NaN   8820.0                          NaN   \n",
              "2           NaN   8310.0                         98.2   \n",
              "3           NaN      NaN                         78.4   \n",
              "4          70.1   5230.0                         93.1   \n",
              "5          99.0  17900.0                         91.1   \n",
              "6          97.8  17130.0                          NaN   \n",
              "7          99.6   6100.0                          NaN   \n",
              "8           NaN  38110.0                         96.9   \n",
              "9           NaN  42050.0                          NaN   \n",
              "\n",
              "   PrimarySchoolEnrollmentFemale  \n",
              "0                            NaN  \n",
              "1                            NaN  \n",
              "2                           96.4  \n",
              "3                           79.4  \n",
              "4                           78.2  \n",
              "5                           84.5  \n",
              "6                            NaN  \n",
              "7                            NaN  \n",
              "8                           97.5  \n",
              "9                            NaN  "
            ],
            "text/html": [
              "\n",
              "  <div id=\"df-35c5cd1b-3187-4ab9-b3fc-8bcbc6fbf4cb\" class=\"colab-df-container\">\n",
              "    <div>\n",
              "<style scoped>\n",
              "    .dataframe tbody tr th:only-of-type {\n",
              "        vertical-align: middle;\n",
              "    }\n",
              "\n",
              "    .dataframe tbody tr th {\n",
              "        vertical-align: top;\n",
              "    }\n",
              "\n",
              "    .dataframe thead th {\n",
              "        text-align: right;\n",
              "    }\n",
              "</style>\n",
              "<table border=\"1\" class=\"dataframe\">\n",
              "  <thead>\n",
              "    <tr style=\"text-align: right;\">\n",
              "      <th></th>\n",
              "      <th>Country</th>\n",
              "      <th>Region</th>\n",
              "      <th>Population</th>\n",
              "      <th>Under15</th>\n",
              "      <th>Over60</th>\n",
              "      <th>FertilityRate</th>\n",
              "      <th>LifeExpectancy</th>\n",
              "      <th>ChildMortality</th>\n",
              "      <th>CellularSubscribers</th>\n",
              "      <th>LiteracyRate</th>\n",
              "      <th>GNI</th>\n",
              "      <th>PrimarySchoolEnrollmentMale</th>\n",
              "      <th>PrimarySchoolEnrollmentFemale</th>\n",
              "    </tr>\n",
              "  </thead>\n",
              "  <tbody>\n",
              "    <tr>\n",
              "      <th>0</th>\n",
              "      <td>Afghanistan</td>\n",
              "      <td>Eastern Mediterranean</td>\n",
              "      <td>29825</td>\n",
              "      <td>47.42</td>\n",
              "      <td>3.82</td>\n",
              "      <td>5.40</td>\n",
              "      <td>60</td>\n",
              "      <td>98.5</td>\n",
              "      <td>54.26</td>\n",
              "      <td>NaN</td>\n",
              "      <td>1140.0</td>\n",
              "      <td>NaN</td>\n",
              "      <td>NaN</td>\n",
              "    </tr>\n",
              "    <tr>\n",
              "      <th>1</th>\n",
              "      <td>Albania</td>\n",
              "      <td>Europe</td>\n",
              "      <td>3162</td>\n",
              "      <td>21.33</td>\n",
              "      <td>14.93</td>\n",
              "      <td>1.75</td>\n",
              "      <td>74</td>\n",
              "      <td>16.7</td>\n",
              "      <td>96.39</td>\n",
              "      <td>NaN</td>\n",
              "      <td>8820.0</td>\n",
              "      <td>NaN</td>\n",
              "      <td>NaN</td>\n",
              "    </tr>\n",
              "    <tr>\n",
              "      <th>2</th>\n",
              "      <td>Algeria</td>\n",
              "      <td>Africa</td>\n",
              "      <td>38482</td>\n",
              "      <td>27.42</td>\n",
              "      <td>7.17</td>\n",
              "      <td>2.83</td>\n",
              "      <td>73</td>\n",
              "      <td>20.0</td>\n",
              "      <td>98.99</td>\n",
              "      <td>NaN</td>\n",
              "      <td>8310.0</td>\n",
              "      <td>98.2</td>\n",
              "      <td>96.4</td>\n",
              "    </tr>\n",
              "    <tr>\n",
              "      <th>3</th>\n",
              "      <td>Andorra</td>\n",
              "      <td>Europe</td>\n",
              "      <td>78</td>\n",
              "      <td>15.20</td>\n",
              "      <td>22.86</td>\n",
              "      <td>NaN</td>\n",
              "      <td>82</td>\n",
              "      <td>3.2</td>\n",
              "      <td>75.49</td>\n",
              "      <td>NaN</td>\n",
              "      <td>NaN</td>\n",
              "      <td>78.4</td>\n",
              "      <td>79.4</td>\n",
              "    </tr>\n",
              "    <tr>\n",
              "      <th>4</th>\n",
              "      <td>Angola</td>\n",
              "      <td>Africa</td>\n",
              "      <td>20821</td>\n",
              "      <td>47.58</td>\n",
              "      <td>3.84</td>\n",
              "      <td>6.10</td>\n",
              "      <td>51</td>\n",
              "      <td>163.5</td>\n",
              "      <td>48.38</td>\n",
              "      <td>70.1</td>\n",
              "      <td>5230.0</td>\n",
              "      <td>93.1</td>\n",
              "      <td>78.2</td>\n",
              "    </tr>\n",
              "    <tr>\n",
              "      <th>5</th>\n",
              "      <td>Antigua and Barbuda</td>\n",
              "      <td>Americas</td>\n",
              "      <td>89</td>\n",
              "      <td>25.96</td>\n",
              "      <td>12.35</td>\n",
              "      <td>2.12</td>\n",
              "      <td>75</td>\n",
              "      <td>9.9</td>\n",
              "      <td>196.41</td>\n",
              "      <td>99.0</td>\n",
              "      <td>17900.0</td>\n",
              "      <td>91.1</td>\n",
              "      <td>84.5</td>\n",
              "    </tr>\n",
              "    <tr>\n",
              "      <th>6</th>\n",
              "      <td>Argentina</td>\n",
              "      <td>Americas</td>\n",
              "      <td>41087</td>\n",
              "      <td>24.42</td>\n",
              "      <td>14.97</td>\n",
              "      <td>2.20</td>\n",
              "      <td>76</td>\n",
              "      <td>14.2</td>\n",
              "      <td>134.92</td>\n",
              "      <td>97.8</td>\n",
              "      <td>17130.0</td>\n",
              "      <td>NaN</td>\n",
              "      <td>NaN</td>\n",
              "    </tr>\n",
              "    <tr>\n",
              "      <th>7</th>\n",
              "      <td>Armenia</td>\n",
              "      <td>Europe</td>\n",
              "      <td>2969</td>\n",
              "      <td>20.34</td>\n",
              "      <td>14.06</td>\n",
              "      <td>1.74</td>\n",
              "      <td>71</td>\n",
              "      <td>16.4</td>\n",
              "      <td>103.57</td>\n",
              "      <td>99.6</td>\n",
              "      <td>6100.0</td>\n",
              "      <td>NaN</td>\n",
              "      <td>NaN</td>\n",
              "    </tr>\n",
              "    <tr>\n",
              "      <th>8</th>\n",
              "      <td>Australia</td>\n",
              "      <td>Western Pacific</td>\n",
              "      <td>23050</td>\n",
              "      <td>18.95</td>\n",
              "      <td>19.46</td>\n",
              "      <td>1.89</td>\n",
              "      <td>82</td>\n",
              "      <td>4.9</td>\n",
              "      <td>108.34</td>\n",
              "      <td>NaN</td>\n",
              "      <td>38110.0</td>\n",
              "      <td>96.9</td>\n",
              "      <td>97.5</td>\n",
              "    </tr>\n",
              "    <tr>\n",
              "      <th>9</th>\n",
              "      <td>Austria</td>\n",
              "      <td>Europe</td>\n",
              "      <td>8464</td>\n",
              "      <td>14.51</td>\n",
              "      <td>23.52</td>\n",
              "      <td>1.44</td>\n",
              "      <td>81</td>\n",
              "      <td>4.0</td>\n",
              "      <td>154.78</td>\n",
              "      <td>NaN</td>\n",
              "      <td>42050.0</td>\n",
              "      <td>NaN</td>\n",
              "      <td>NaN</td>\n",
              "    </tr>\n",
              "  </tbody>\n",
              "</table>\n",
              "</div>\n",
              "    <div class=\"colab-df-buttons\">\n",
              "\n",
              "  <div class=\"colab-df-container\">\n",
              "    <button class=\"colab-df-convert\" onclick=\"convertToInteractive('df-35c5cd1b-3187-4ab9-b3fc-8bcbc6fbf4cb')\"\n",
              "            title=\"Convert this dataframe to an interactive table.\"\n",
              "            style=\"display:none;\">\n",
              "\n",
              "  <svg xmlns=\"http://www.w3.org/2000/svg\" height=\"24px\" viewBox=\"0 -960 960 960\">\n",
              "    <path d=\"M120-120v-720h720v720H120Zm60-500h600v-160H180v160Zm220 220h160v-160H400v160Zm0 220h160v-160H400v160ZM180-400h160v-160H180v160Zm440 0h160v-160H620v160ZM180-180h160v-160H180v160Zm440 0h160v-160H620v160Z\"/>\n",
              "  </svg>\n",
              "    </button>\n",
              "\n",
              "  <style>\n",
              "    .colab-df-container {\n",
              "      display:flex;\n",
              "      gap: 12px;\n",
              "    }\n",
              "\n",
              "    .colab-df-convert {\n",
              "      background-color: #E8F0FE;\n",
              "      border: none;\n",
              "      border-radius: 50%;\n",
              "      cursor: pointer;\n",
              "      display: none;\n",
              "      fill: #1967D2;\n",
              "      height: 32px;\n",
              "      padding: 0 0 0 0;\n",
              "      width: 32px;\n",
              "    }\n",
              "\n",
              "    .colab-df-convert:hover {\n",
              "      background-color: #E2EBFA;\n",
              "      box-shadow: 0px 1px 2px rgba(60, 64, 67, 0.3), 0px 1px 3px 1px rgba(60, 64, 67, 0.15);\n",
              "      fill: #174EA6;\n",
              "    }\n",
              "\n",
              "    .colab-df-buttons div {\n",
              "      margin-bottom: 4px;\n",
              "    }\n",
              "\n",
              "    [theme=dark] .colab-df-convert {\n",
              "      background-color: #3B4455;\n",
              "      fill: #D2E3FC;\n",
              "    }\n",
              "\n",
              "    [theme=dark] .colab-df-convert:hover {\n",
              "      background-color: #434B5C;\n",
              "      box-shadow: 0px 1px 3px 1px rgba(0, 0, 0, 0.15);\n",
              "      filter: drop-shadow(0px 1px 2px rgba(0, 0, 0, 0.3));\n",
              "      fill: #FFFFFF;\n",
              "    }\n",
              "  </style>\n",
              "\n",
              "    <script>\n",
              "      const buttonEl =\n",
              "        document.querySelector('#df-35c5cd1b-3187-4ab9-b3fc-8bcbc6fbf4cb button.colab-df-convert');\n",
              "      buttonEl.style.display =\n",
              "        google.colab.kernel.accessAllowed ? 'block' : 'none';\n",
              "\n",
              "      async function convertToInteractive(key) {\n",
              "        const element = document.querySelector('#df-35c5cd1b-3187-4ab9-b3fc-8bcbc6fbf4cb');\n",
              "        const dataTable =\n",
              "          await google.colab.kernel.invokeFunction('convertToInteractive',\n",
              "                                                    [key], {});\n",
              "        if (!dataTable) return;\n",
              "\n",
              "        const docLinkHtml = 'Like what you see? Visit the ' +\n",
              "          '<a target=\"_blank\" href=https://colab.research.google.com/notebooks/data_table.ipynb>data table notebook</a>'\n",
              "          + ' to learn more about interactive tables.';\n",
              "        element.innerHTML = '';\n",
              "        dataTable['output_type'] = 'display_data';\n",
              "        await google.colab.output.renderOutput(dataTable, element);\n",
              "        const docLink = document.createElement('div');\n",
              "        docLink.innerHTML = docLinkHtml;\n",
              "        element.appendChild(docLink);\n",
              "      }\n",
              "    </script>\n",
              "  </div>\n",
              "\n",
              "\n",
              "<div id=\"df-4d6f1288-953b-48a3-8f8d-46b26a71b6f5\">\n",
              "  <button class=\"colab-df-quickchart\" onclick=\"quickchart('df-4d6f1288-953b-48a3-8f8d-46b26a71b6f5')\"\n",
              "            title=\"Suggest charts\"\n",
              "            style=\"display:none;\">\n",
              "\n",
              "<svg xmlns=\"http://www.w3.org/2000/svg\" height=\"24px\"viewBox=\"0 0 24 24\"\n",
              "     width=\"24px\">\n",
              "    <g>\n",
              "        <path d=\"M19 3H5c-1.1 0-2 .9-2 2v14c0 1.1.9 2 2 2h14c1.1 0 2-.9 2-2V5c0-1.1-.9-2-2-2zM9 17H7v-7h2v7zm4 0h-2V7h2v10zm4 0h-2v-4h2v4z\"/>\n",
              "    </g>\n",
              "</svg>\n",
              "  </button>\n",
              "\n",
              "<style>\n",
              "  .colab-df-quickchart {\n",
              "      --bg-color: #E8F0FE;\n",
              "      --fill-color: #1967D2;\n",
              "      --hover-bg-color: #E2EBFA;\n",
              "      --hover-fill-color: #174EA6;\n",
              "      --disabled-fill-color: #AAA;\n",
              "      --disabled-bg-color: #DDD;\n",
              "  }\n",
              "\n",
              "  [theme=dark] .colab-df-quickchart {\n",
              "      --bg-color: #3B4455;\n",
              "      --fill-color: #D2E3FC;\n",
              "      --hover-bg-color: #434B5C;\n",
              "      --hover-fill-color: #FFFFFF;\n",
              "      --disabled-bg-color: #3B4455;\n",
              "      --disabled-fill-color: #666;\n",
              "  }\n",
              "\n",
              "  .colab-df-quickchart {\n",
              "    background-color: var(--bg-color);\n",
              "    border: none;\n",
              "    border-radius: 50%;\n",
              "    cursor: pointer;\n",
              "    display: none;\n",
              "    fill: var(--fill-color);\n",
              "    height: 32px;\n",
              "    padding: 0;\n",
              "    width: 32px;\n",
              "  }\n",
              "\n",
              "  .colab-df-quickchart:hover {\n",
              "    background-color: var(--hover-bg-color);\n",
              "    box-shadow: 0 1px 2px rgba(60, 64, 67, 0.3), 0 1px 3px 1px rgba(60, 64, 67, 0.15);\n",
              "    fill: var(--button-hover-fill-color);\n",
              "  }\n",
              "\n",
              "  .colab-df-quickchart-complete:disabled,\n",
              "  .colab-df-quickchart-complete:disabled:hover {\n",
              "    background-color: var(--disabled-bg-color);\n",
              "    fill: var(--disabled-fill-color);\n",
              "    box-shadow: none;\n",
              "  }\n",
              "\n",
              "  .colab-df-spinner {\n",
              "    border: 2px solid var(--fill-color);\n",
              "    border-color: transparent;\n",
              "    border-bottom-color: var(--fill-color);\n",
              "    animation:\n",
              "      spin 1s steps(1) infinite;\n",
              "  }\n",
              "\n",
              "  @keyframes spin {\n",
              "    0% {\n",
              "      border-color: transparent;\n",
              "      border-bottom-color: var(--fill-color);\n",
              "      border-left-color: var(--fill-color);\n",
              "    }\n",
              "    20% {\n",
              "      border-color: transparent;\n",
              "      border-left-color: var(--fill-color);\n",
              "      border-top-color: var(--fill-color);\n",
              "    }\n",
              "    30% {\n",
              "      border-color: transparent;\n",
              "      border-left-color: var(--fill-color);\n",
              "      border-top-color: var(--fill-color);\n",
              "      border-right-color: var(--fill-color);\n",
              "    }\n",
              "    40% {\n",
              "      border-color: transparent;\n",
              "      border-right-color: var(--fill-color);\n",
              "      border-top-color: var(--fill-color);\n",
              "    }\n",
              "    60% {\n",
              "      border-color: transparent;\n",
              "      border-right-color: var(--fill-color);\n",
              "    }\n",
              "    80% {\n",
              "      border-color: transparent;\n",
              "      border-right-color: var(--fill-color);\n",
              "      border-bottom-color: var(--fill-color);\n",
              "    }\n",
              "    90% {\n",
              "      border-color: transparent;\n",
              "      border-bottom-color: var(--fill-color);\n",
              "    }\n",
              "  }\n",
              "</style>\n",
              "\n",
              "  <script>\n",
              "    async function quickchart(key) {\n",
              "      const quickchartButtonEl =\n",
              "        document.querySelector('#' + key + ' button');\n",
              "      quickchartButtonEl.disabled = true;  // To prevent multiple clicks.\n",
              "      quickchartButtonEl.classList.add('colab-df-spinner');\n",
              "      try {\n",
              "        const charts = await google.colab.kernel.invokeFunction(\n",
              "            'suggestCharts', [key], {});\n",
              "      } catch (error) {\n",
              "        console.error('Error during call to suggestCharts:', error);\n",
              "      }\n",
              "      quickchartButtonEl.classList.remove('colab-df-spinner');\n",
              "      quickchartButtonEl.classList.add('colab-df-quickchart-complete');\n",
              "    }\n",
              "    (() => {\n",
              "      let quickchartButtonEl =\n",
              "        document.querySelector('#df-4d6f1288-953b-48a3-8f8d-46b26a71b6f5 button');\n",
              "      quickchartButtonEl.style.display =\n",
              "        google.colab.kernel.accessAllowed ? 'block' : 'none';\n",
              "    })();\n",
              "  </script>\n",
              "</div>\n",
              "    </div>\n",
              "  </div>\n"
            ]
          },
          "metadata": {},
          "execution_count": 8
        }
      ]
    },
    {
      "cell_type": "markdown",
      "source": [
        "* Then I show the last 10 rows"
      ],
      "metadata": {
        "id": "kKpiwTyTCQeS"
      }
    },
    {
      "cell_type": "code",
      "source": [
        "data_frame.tail(10)"
      ],
      "metadata": {
        "id": "glmQlcLaCVNm"
      },
      "execution_count": null,
      "outputs": []
    },
    {
      "cell_type": "markdown",
      "source": [
        "## 2. Check the number of rows and the names of the columns the data has\n",
        "\n",
        "*Below we can see that some columns do not have 194 rows."
      ],
      "metadata": {
        "id": "pZT0Dif_Fh6r"
      }
    },
    {
      "cell_type": "code",
      "source": [
        "data_frame.count()   #counting the number of rows"
      ],
      "metadata": {
        "id": "3lHzKcK1GSuY"
      },
      "execution_count": null,
      "outputs": []
    },
    {
      "cell_type": "markdown",
      "source": [
        "## 3. Checking the number of missing values\n",
        "\n",
        "* below we check the sum of the \"null\" values in a column, this shows that there is an absence of a value in certain cells in the data."
      ],
      "metadata": {
        "id": "bgkZDdoyJ412"
      }
    },
    {
      "cell_type": "code",
      "source": [
        "data_frame.isnull().sum()"
      ],
      "metadata": {
        "id": "an5alrdEKPL9"
      },
      "execution_count": null,
      "outputs": []
    },
    {
      "cell_type": "markdown",
      "source": [
        "* Some columns are not missing any data, a few are missing some data, hence they did not have 194 rows.\n",
        "\n",
        "## 4. dropping irrelevant column\n",
        "\n",
        "* The \"CellularSubscribers\" column does not have clear data. There is no unit of measurement used for the data. We will not be able to work with this column so I am removing it."
      ],
      "metadata": {
        "id": "j13VTlRI2kV_"
      }
    },
    {
      "cell_type": "code",
      "source": [
        "data_frame.pop(\"CellularSubscribers\")\n",
        "data_frame.count() #to check for the absence of the CellularSubscribers column"
      ],
      "metadata": {
        "id": "tshcdhnzNgGj"
      },
      "execution_count": null,
      "outputs": []
    },
    {
      "cell_type": "markdown",
      "source": [
        "## 5. Ignoring the missing data\n",
        "\n",
        "* The reasons for the missing values are unknown, so substituting the values with say the mean or median of a row would be inexplicable and arbitrary. Most rows are missing values from the same columns namely: \"LiteracyRate\", \"PrimarySchoolEnrollmentMale\" and \"PrimarySchoolEnrollmentFemale\". Removing these rows would mean that other unrelated information is lost along with the affected rows.\n",
        "\n",
        "* Because of the above observations, I will be ignoring the missing data."
      ],
      "metadata": {
        "id": "ecZsgh-MeNf0"
      }
    },
    {
      "cell_type": "markdown",
      "source": [
        "## question3: The country with the lowest under 15 population\n",
        "\n",
        "* Below we use a pandas funtion called min(). This function outputs the lowest value from a column or a data frame, in case the the lowest values in the column \"Under15\" from our datafram, we get the value 13.12.\n",
        "\n",
        "* We now need to figue out in wich country this value is in. We can use the loc[] method from pandas to \"index\" the row, using the value."
      ],
      "metadata": {
        "id": "5r9LQsaVkO0J"
      }
    },
    {
      "cell_type": "code",
      "source": [
        "# using the min() attribute of our data frame to get the lowest value\n",
        "lowest_under15_value = data_frame.Under15.min()\n",
        "print(lowest_under15_value)\n",
        "\n",
        "# indexing the \"Country\" colomn using the lowest-under15_value variable\n",
        "country_with_lowerst_value = data_frame.loc[data_frame[\"Under15\"] == lowest_under15_value]\n",
        "print(count_with_lowest_value.Country)\n"
      ],
      "metadata": {
        "id": "m_xyHmNTlIif"
      },
      "execution_count": null,
      "outputs": []
    },
    {
      "cell_type": "markdown",
      "source": [
        "* The country with the lowest percentage of people under the age of 15 is Japan. With only 13.12 percent of the population under 15 years old.\n",
        "\n",
        "## Question4: The region with the highest over 60 population\n",
        "\n",
        "* For this question I will use a horizontal bar graph and look for the tallest bar."
      ],
      "metadata": {
        "id": "nfCzuDA6IfVo"
      }
    },
    {
      "cell_type": "code",
      "source": [
        "plt.barh(data_frame.Region,data_frame.Over60)\n",
        "plt.title(\"Population over 60 years by region\",fontweight=\"bold\")\n",
        "plt.ylabel(\"Region\",fontweight=\"bold\")\n",
        "plt.xlabel(\"Population over 60 years percentage\",fontweight=\"bold\")"
      ],
      "metadata": {
        "id": "sTqTP8SlJe1Q"
      },
      "execution_count": null,
      "outputs": []
    },
    {
      "cell_type": "markdown",
      "source": [
        "* The region with the highest over 60 population is the Western Pacific."
      ],
      "metadata": {
        "id": "KKkxYkjVqObo"
      }
    },
    {
      "cell_type": "markdown",
      "source": [
        "## Question5: Does fertility decrease as income increases? Are there any countries that don’t seem to follow this relation?\n",
        "\n",
        "* To visualise the relationship between fertility rate and the income, I will use a scatter plot."
      ],
      "metadata": {
        "id": "O7T4ozr5qowT"
      }
    },
    {
      "cell_type": "code",
      "source": [
        "# plotting the graph and adding a tiltle and axis labels\n",
        "plt.scatter(data_frame.GNI,data_frame.FertilityRate)\n",
        "plt.title(\"Relationship between Fertility and Income\", fontweight=\"bold\")\n",
        "plt.xlabel(\"GNI per capita gross national income\", fontweight=\"bold\")\n",
        "plt.ylabel(\"FertilityRate per Avg. number of children per woman\", fontweight=\"bold\")"
      ],
      "metadata": {
        "id": "o5-SK8MCszTe"
      },
      "execution_count": null,
      "outputs": []
    },
    {
      "cell_type": "markdown",
      "source": [
        "* From the scatter plot above, we can see that as the income increases (going from the left to the right), the number of children per woman decreases. So in most countries, the fertility rate decreases as income increases.\n",
        "\n",
        " There are other countries that do not follow this trend, as shown by the plot that falls away from the downward curve formed by the other plots."
      ],
      "metadata": {
        "id": "1kzpzPhK0ASV"
      }
    },
    {
      "cell_type": "markdown",
      "source": [
        "## Question6 : Which regions have the lowest literacy rates?\n",
        "\n"
      ],
      "metadata": {
        "id": "96f53ZGo2hnO"
      }
    },
    {
      "cell_type": "code",
      "source": [
        "plt.barh(data_frame.Region,data_frame.LiteracyRate)\n",
        "plt.title(\"Literacy rates by region\", fontweight=\"bold\")\n",
        "plt.xlabel(\"literacy Rate\", fontweight=\"bold\")\n",
        "plt.ylabel(\"Region\", fontweight=\"bold\")"
      ],
      "metadata": {
        "id": "4plhFAJ23iPs"
      },
      "execution_count": null,
      "outputs": []
    },
    {
      "cell_type": "markdown",
      "source": [
        "* From the above bar graph we can see that South-East Asia has the lowest literacy rate of all the regions in the data set. We need to bare in mind however that the results maybe affected by the missing data in the \"LiteracyRate\" column.\n",
        "\n",
        "## Question7: Which regions have the lowest child mortality rates?\n"
      ],
      "metadata": {
        "id": "sCEwiuIwpo8y"
      }
    },
    {
      "cell_type": "code",
      "source": [
        "plt.barh(data_frame.Region,data_frame.ChildMortality)\n",
        "plt.title(\"ChildMortality by Region\",fontweight=\"bold\")\n",
        "plt.ylabel(\"Region\", fontweight=\"bold\")\n",
        "plt.xlabel(\"Child Mortality Rate\", fontweight=\"bold\")"
      ],
      "metadata": {
        "id": "eZStC7xnsqfG"
      },
      "execution_count": null,
      "outputs": []
    },
    {
      "cell_type": "markdown",
      "source": [
        "* The region with the lowest child mortality rate is South-East Asia, as shown by the above bar graph.\n",
        "\n",
        "## Question8: What is the life expectancy across different regions?\n",
        "\n",
        "* For this question we will be creating a box-and-whisker plot to visualise the life expectancy across the regions."
      ],
      "metadata": {
        "id": "WQ68DjEgurrB"
      }
    },
    {
      "cell_type": "code",
      "source": [
        "sns.boxplot(x=\"LifeExpectancy\",y=\"Region\", data=data_frame)\n",
        "plt.title(\"Life Expectancy by Region\",fontweight=\"bold\")\n",
        "plt.xlabel(\"LifeExpectancy\",fontweight=\"bold\")\n",
        "plt.ylabel(\"Region\",fontweight=\"bold\")"
      ],
      "metadata": {
        "id": "odDUZ3IXylDm"
      },
      "execution_count": null,
      "outputs": []
    },
    {
      "cell_type": "markdown",
      "source": [
        "* For most regions the box plots are not very long (ecxept for the Eastern Mediterranean Region), this shows that the data is not scatters but concentrated within a certain range. The box plots for South-East Asia, Western Pacific, Americas and Europe are situated in the 60 and above range, this shows that most or all, the countries in these regions have a life expectancy that is higher than 60 years.\n",
        "\n",
        "* The countries in the Easten Mediterranean do not have a trend that they follow. Some countries in this region have a life expectancy that is above 80 years old while some have a values around only 50 years old. Hence the box plot is long. However, 75% of the countrie hava a life expectancy that is above 60 years old.\n",
        "\n",
        "* In the African region, most countries hava a life expectancy that is lower than 60 years old. The Uppper quartile value is at around 60 years old meaning that 75% of the countries in this reagion have a life expectancy that is lower than 60 years old. Some countrie have a high life expectancy with the highest value of the box plot being higher than 70 years old.\n",
        "\n",
        "* Europe has the Inter quatile range above 75 years, this means that more than 50% of the countries in this region have a life expectancy that is higher than 75 years. 75% of the countries have a life expectancy that is higher than 70 years old. This is the region with the highest population percentage with a high life expectancy rate.\n",
        "\n",
        "## Question9 part 1: How is life expectancy related to wealth?"
      ],
      "metadata": {
        "id": "QDbAWNmw_gfy"
      }
    },
    {
      "cell_type": "code",
      "source": [
        "# creation a scatter plot for every region on the same axis\n",
        "plt.scatter(data_frame.loc[data_frame.Region == \"Africa\"].GNI,data_frame.loc[data_frame.Region == \"Africa\"].LifeExpectancy,color=\"Red\",label=\"Africa\")\n",
        "plt.scatter(data_frame.loc[data_frame.Region == \"Europe\"].GNI,data_frame.loc[data_frame.Region == \"Europe\"].LifeExpectancy,color=\"Orange\",label=\"Europe\")\n",
        "plt.scatter(data_frame.loc[data_frame.Region == \"Americas\"].GNI,data_frame.loc[data_frame.Region == \"Americas\"].LifeExpectancy,color=\"Yellow\",label=\"Americas\")\n",
        "plt.scatter(data_frame.loc[data_frame.Region == \"Eastern Meditarranian\"].GNI,data_frame.loc[data_frame.Region == \"Eastern Meditarranian\"].LifeExpectancy,color=\"Green\",label=\"Eastern Mediterranian\")\n",
        "plt.scatter(data_frame.loc[data_frame.Region == \"South-East Asia\"].GNI,data_frame.loc[data_frame.Region == \"South-East Asia\"].LifeExpectancy,color=\"Blue\",label=\"South-East Asia\")\n",
        "plt.scatter(data_frame.loc[data_frame.Region == \"Western Pacific\"].GNI,data_frame.loc[data_frame.Region == \"Western Pacific\"].LifeExpectancy,color=\"Violet\",label=\"Western Pacific\")\n",
        "plt.title(\"Relation beyween Life expectancy and Income\",fontweight=\"bold\")\n",
        "plt.ylabel(\"LifeExpectancy in years\",fontweight=\"bold\")\n",
        "plt.xlabel(\"GNI per capita gross national income\",fontweight=\"bold\")\n",
        "plt.legend()"
      ],
      "metadata": {
        "id": "vSMsGWLMKzCB"
      },
      "execution_count": null,
      "outputs": []
    },
    {
      "cell_type": "markdown",
      "source": [
        "* the more money people earn in a region the higher the life expectancy\n",
        "\n",
        "* Most of the people in the African region do not earn a lot, and have a low life expectancy. However some African countries that are more to the right of the graph have an increased income and a higher life expectancy.\n",
        "\n",
        "## Question9 part2: How is wealth related to fertility across different regions?"
      ],
      "metadata": {
        "id": "r7WpOQ-hhnvI"
      }
    },
    {
      "cell_type": "code",
      "source": [
        "plt.scatter(data_frame.loc[data_frame.Region == \"Africa\"].GNI,data_frame.loc[data_frame.Region == \"Africa\"].FertilityRate,color=\"Red\",label=\"Africa\")\n",
        "plt.scatter(data_frame.loc[data_frame.Region == \"Europe\"].GNI,data_frame.loc[data_frame.Region == \"Europe\"].FertilityRate,color=\"Orange\",label=\"Europe\")\n",
        "plt.scatter(data_frame.loc[data_frame.Region == \"Americas\"].GNI,data_frame.loc[data_frame.Region == \"Americas\"].FertilityRate,color=\"Yellow\",label=\"Americas\")\n",
        "plt.scatter(data_frame.loc[data_frame.Region == \"Eastern Meditarranian\"].GNI,data_frame.loc[data_frame.Region == \"Eastern Meditarranian\"].FertilityRate,color=\"Green\",label=\"Eastern Mediterranian\")\n",
        "plt.scatter(data_frame.loc[data_frame.Region == \"South-East Asia\"].GNI,data_frame.loc[data_frame.Region == \"South-East Asia\"].FertilityRate,color=\"Blue\",label=\"South-East Asia\")\n",
        "plt.scatter(data_frame.loc[data_frame.Region == \"Western Pacific\"].GNI,data_frame.loc[data_frame.Region == \"Western Pacific\"].FertilityRate,color=\"Violet\",label=\"Western Pacific\")\n",
        "plt.title(\"Relation beyween Fertility Rate and Income\",fontweight=\"bold\")\n",
        "plt.ylabel(\"FertilityRate in years\",fontweight=\"bold\")\n",
        "plt.xlabel(\"GNI per capita gross national income\",fontweight=\"bold\")\n",
        "plt.legend()"
      ],
      "metadata": {
        "colab": {
          "base_uri": "https://localhost:8080/",
          "height": 490
        },
        "id": "9pmnyLBtkvS7",
        "outputId": "22665dbc-ff08-4a95-e629-e968d9f6f5e1"
      },
      "execution_count": 11,
      "outputs": [
        {
          "output_type": "execute_result",
          "data": {
            "text/plain": [
              "<matplotlib.legend.Legend at 0x7a972952f880>"
            ]
          },
          "metadata": {},
          "execution_count": 11
        },
        {
          "output_type": "display_data",
          "data": {
            "text/plain": [
              "<Figure size 640x480 with 1 Axes>"
            ],
            "image/png": "[encoded data removed]"
          },
          "metadata": {}
        }
      ]
    },
    {
      "cell_type": "markdown",
      "source": [
        "* The more peple earn the lower the fertility rate of the country.\n",
        "\n",
        "* The above relation does hold in African Countries somewhat, the countries where people earn more are lower on the graph meaning they earn more money than those to the left\n",
        "\n",
        "## Question 10:"
      ],
      "metadata": {
        "id": "rRqlfK1Ul7VZ"
      }
    },
    {
      "cell_type": "code",
      "source": [
        "plt.scatter(data_frame.loc[data_frame.Region == \"Africa\"].LifeExpectancy,data_frame.loc[data_frame.Region == \"Africa\"].LiteracyRate,color=\"Red\",label=\"Africa\")\n",
        "plt.scatter(data_frame.loc[data_frame.Region == \"Europe\"].LifeExpectancy,data_frame.loc[data_frame.Region == \"Europe\"].LiteracyRate,color=\"Orange\",label=\"Europe\")\n",
        "plt.scatter(data_frame.loc[data_frame.Region == \"Americas\"].LifeExpectancy,data_frame.loc[data_frame.Region == \"Americas\"].LiteracyRate,color=\"Yellow\",label=\"Americas\")\n",
        "plt.scatter(data_frame.loc[data_frame.Region == \"Eastern Meditarranian\"].LifeExpectancy,data_frame.loc[data_frame.Region == \"Eastern Meditarranian\"].LiteracyRate,color=\"Green\",label=\"Eastern Mediterranian\")\n",
        "plt.scatter(data_frame.loc[data_frame.Region == \"South-East Asia\"].LifeExpectancy,data_frame.loc[data_frame.Region == \"South-East Asia\"].LiteracyRate,color=\"Blue\",label=\"South-East Asia\")\n",
        "plt.scatter(data_frame.loc[data_frame.Region == \"Western Pacific\"].LifeExpectancy,data_frame.loc[data_frame.Region == \"Western Pacific\"].LiteracyRate,color=\"Violet\",label=\"Western Pacific\")\n",
        "plt.title(\"Relation beyween Life expectancy and Literacy Rate\",fontweight=\"bold\")\n",
        "plt.ylabel(\"FertilityRate\",fontweight=\"bold\")\n",
        "plt.xlabel(\"LifeExpectancy in years\",fontweight=\"bold\")\n",
        "plt.legend()\n"
      ],
      "metadata": {
        "colab": {
          "base_uri": "https://localhost:8080/",
          "height": 490
        },
        "id": "R2LV8Cc8m50q",
        "outputId": "4bc2edc8-e5ad-4b18-f2aa-0826f05cb795"
      },
      "execution_count": 10,
      "outputs": [
        {
          "output_type": "execute_result",
          "data": {
            "text/plain": [
              "<matplotlib.legend.Legend at 0x7a97295d5ea0>"
            ]
          },
          "metadata": {},
          "execution_count": 10
        },
        {
          "output_type": "display_data",
          "data": {
            "text/plain": [
              "<Figure size 640x480 with 1 Axes>"
            ],
            "image/png": "[encoded data removed]"
          },
          "metadata": {}
        }
      ]
    },
    {
      "cell_type": "markdown",
      "source": [
        "* Countries in the Erope, Americans, Eastern Mediterranian, south-East Asia and Western Pacific regions have a higher vertility rate as life expectancy goes up."
      ],
      "metadata": {
        "id": "_1KGWgvkZXtw"
      }
    },
    {
      "cell_type": "code",
      "source": [
        "african_countries = data_frame.loc[data_frame.Region == \"Africa\"]\n",
        "my_plot = plt.scatter(african_countries.LifeExpectancy,african_countries.LiteracyRate)\n",
        "plt.title(\"Relation beyween Life expectancy and Literacy Rate in African countries\",fontweight=\"bold\")\n",
        "plt.ylabel(\"FertilityRate in years\",fontweight=\"bold\")\n",
        "plt.xlabel(\"LifeExpectancy in years\",fontweight=\"bold\")\n",
        "plt.legend()\n"
      ],
      "metadata": {
        "colab": {
          "base_uri": "https://localhost:8080/",
          "height": 528
        },
        "id": "4YWRIOZ1sKWr",
        "outputId": "25b519a9-90b4-4bbb-fe4a-e2b879badb00"
      },
      "execution_count": 9,
      "outputs": [
        {
          "output_type": "stream",
          "name": "stderr",
          "text": [
            "WARNING:matplotlib.legend:No artists with labels found to put in legend.  Note that artists whose label start with an underscore are ignored when legend() is called with no argument.\n"
          ]
        },
        {
          "output_type": "execute_result",
          "data": {
            "text/plain": [
              "<matplotlib.legend.Legend at 0x7a972b737a90>"
            ]
          },
          "metadata": {},
          "execution_count": 9
        },
        {
          "output_type": "display_data",
          "data": {
            "text/plain": [
              "<Figure size 640x480 with 1 Axes>"
            ],
            "image/png": "[encoded data removed]"
          },
          "metadata": {}
        }
      ]
    },
    {
      "cell_type": "markdown",
      "source": [
        "* For African countries as seen in the plot above, most countrie have a lower life expectancy compared to the other regions but a high fertility rate.\n",
        "\n",
        "* The data was missing some values in the Fertility rate column this may have negatively affected the overall results. We therefore cannot completely rely on the relationship shown. although the presence of the result may not result in a big change as there are only 10 values missing out of 194.\n",
        "\n",
        "# <u>Conclusion</u>\n",
        "\n",
        "Some reliable relationships and comparisons where extracted from the data set. working with pandas, seaborn and matplotlib made it possible to organise the data and get visualy representable infomation to analyse and make conclutions."
      ],
      "metadata": {
        "id": "Esdx7obWpAqc"
      }
    }
  ]
}